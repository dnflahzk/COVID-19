{
  "nbformat": 4,
  "nbformat_minor": 0,
  "metadata": {
    "colab": {
      "provenance": [],
      "include_colab_link": true
    },
    "kernelspec": {
      "name": "python3",
      "display_name": "Python 3"
    },
    "language_info": {
      "name": "python"
    }
  },
  "cells": [
    {
      "cell_type": "markdown",
      "metadata": {
        "id": "view-in-github",
        "colab_type": "text"
      },
      "source": [
        "<a href=\"https://colab.research.google.com/github/dnflahzk/COVID-19/blob/master/Gemini_Demo_.ipynb\" target=\"_parent\"><img src=\"https://colab.research.google.com/assets/colab-badge.svg\" alt=\"Open In Colab\"/></a>"
      ]
    },
    {
      "cell_type": "markdown",
      "source": [
        " Gemini is a powerful AI tool built by Google that assists with everything from writing code to debugging and optimizing your projects. Toady, We’ll see how Gemini can help you streamline your programming tasks.\n",
        "\n",
        "\n",
        "**Key Benefits:**\n",
        "\n",
        "1. *Fast Response:* Get answers and code solutions instantly as you use Colab\n",
        "2. *Cross-Language Support:* Works with various programming languages like Python, JavaScript, and Java.\n",
        "3. *Learning Tool*: Helps beginners learn coding and assists experts in enhancing productivity.\n"
      ],
      "metadata": {
        "id": "uzjxC3K62X13"
      }
    },
    {
      "cell_type": "markdown",
      "source": [
        "## **Set up a Problem or Use Case Scenario**\n",
        "Scenario Setup: Introduce a realistic, relatable task. For instance: “Let’s say you’re building a Python program to manage employee data. You need a function to calculate employee ages based on their birthdates.”\n",
        "\n",
        "\n",
        "\n",
        "Problem Statement:Write a Python function that calculates the age based on the birthdate. The birthdate should be a string in 'YYYY-MM-DD' format, and the function should return the age as an integer.\n"
      ],
      "metadata": {
        "id": "57e4iBcrij45"
      }
    },
    {
      "cell_type": "code",
      "source": [
        "# prompt: Write a Python function that calculates the age based on the birthdate. The birthdate should be a string in 'YYYY-MM-DD' format, and the function should return the age as an integer.\n",
        "\n",
        "from datetime import datetime\n",
        "\n",
        "def calculate_age(birthdate_str):\n",
        "    \"\"\"\n",
        "    Calculates the age based on the birthdate.\n",
        "\n",
        "    Args:\n",
        "        birthdate_str: The birthdate as a string in 'YYYY-MM-DD' format.\n",
        "\n",
        "    Returns:\n",
        "        The age as an integer.\n",
        "    \"\"\"\n",
        "    try:\n",
        "        birthdate = datetime.strptime(birthdate_str, '%Y-%m-%d').date()\n",
        "        today = datetime.now().date()\n",
        "        age = today.year - birthdate.year - ((today.month, today.day) < (birthdate.month, birthdate.day))\n",
        "        return age\n",
        "    except ValueError:\n",
        "        return -1 # Indicate invalid date format\n"
      ],
      "metadata": {
        "id": "B4w9s-CRKer2"
      },
      "execution_count": null,
      "outputs": []
    },
    {
      "cell_type": "code",
      "source": [
        "# prompt: Write a Python function that calculates the age based on the birthdate. The birthdate should be a string in 'YYYY-MM-DD' format, and the function should return the age as an integer.\n"
      ],
      "metadata": {
        "id": "xgWLZPtrMWpm"
      },
      "execution_count": null,
      "outputs": []
    },
    {
      "cell_type": "markdown",
      "source": [
        "## **Demonstrate Gemini’s Coding Assistance Features**\n",
        "\n",
        "\n",
        "**1. Code Writing:**\n",
        "\n",
        "\n",
        " Prompt: “Write a Python function that calculates the factorial of a number.”\n",
        "\n"
      ],
      "metadata": {
        "id": "2m63hP6Ui9qj"
      }
    },
    {
      "cell_type": "code",
      "source": [
        "# prompt: Write a Python function that calculates the factorial of a number.\n",
        "\n",
        "def factorial(n):\n",
        "    \"\"\"\n",
        "    Calculates the factorial of a non-negative integer.\n",
        "\n",
        "    Args:\n",
        "      n: The non-negative integer.\n",
        "\n",
        "    Returns:\n",
        "      The factorial of n, or 1 if n is 0.\n",
        "      Returns -1 if n is negative.\n",
        "    \"\"\"\n",
        "    if n < 0:\n",
        "        return -1  # Factorial is not defined for negative numbers\n",
        "    elif n == 0:\n",
        "        return 1\n",
        "    else:\n",
        "        result = 1\n",
        "        for i in range(1, n + 1):\n",
        "            result *= i\n",
        "        return result"
      ],
      "metadata": {
        "id": "6PnIPoecKuKN"
      },
      "execution_count": null,
      "outputs": []
    },
    {
      "cell_type": "code",
      "source": [
        "# prompt: Write a Python function that calculates the factorial of a number.\n"
      ],
      "metadata": {
        "id": "H3t0pYOYj-2O"
      },
      "execution_count": null,
      "outputs": []
    },
    {
      "cell_type": "markdown",
      "source": [
        "**2. Demo Explanation**\n",
        "\n",
        "Prompt: “Explain what the following Python function does.”"
      ],
      "metadata": {
        "id": "3cnxAet3j8aD"
      }
    },
    {
      "cell_type": "code",
      "source": [
        "def is_prime(num):\n",
        "    if num < 2:\n",
        "        return False\n",
        "    for i in range(2, int(num**0.5) + 1):\n",
        "        if num % i == 0:\n",
        "            return False\n",
        "    return True"
      ],
      "metadata": {
        "id": "NxIBYwLZy0ZK"
      },
      "execution_count": null,
      "outputs": []
    },
    {
      "cell_type": "code",
      "source": [
        "# prompt: Explain what the following Python function does， def is_prime(num):\n",
        "#     if num < 2:\n",
        "#         return False\n",
        "#     for i in range(2, int(num**0.5) + 1):\n",
        "#         if num % i == 0:\n",
        "#             return False\n",
        "#     return True\n",
        "\n",
        "The Python function `is_prime(num)` determines whether a given integer `num` is a prime number.  Let's break down its logic:\n",
        "\n",
        "1. **Base Case:** It first checks if the number is less than 2.  Prime numbers are defined as natural numbers greater than 1, so any number less than 2 is immediately not prime, and the function returns `False`.\n",
        "\n",
        "2. **Iteration and Divisibility Check:** If the number is 2 or greater, the function iterates through numbers from 2 up to the square root of `num` (inclusive).  The reason for iterating only up to the square root is that if a number has a divisor larger than its square root, it must also have a divisor smaller than its square root.  Checking up to the square root optimizes the process.\n",
        "\n",
        "3. **Modulo Operation:** Inside the loop, the modulo operator (`%`) checks if `num` is perfectly divisible by `i`. If `num % i` equals 0, it means `i` is a divisor of `num` other than 1 and itself.  In this case, `num` cannot be prime, so the function returns `False`.\n",
        "\n",
        "4. **Prime Number Confirmation:** If the loop completes without finding any divisors, it means no number between 2 and the square root of `num` divides `num` evenly. Therefore, the function returns `True`, indicating that `num` is a prime number.\n"
      ],
      "metadata": {
        "id": "yCAmmhaEK6Fn"
      },
      "execution_count": null,
      "outputs": []
    },
    {
      "cell_type": "code",
      "source": [
        "# prompt: Explain what the following Python function does.def is_prime(num):\n",
        "#     if num < 2:\n",
        "#         return False\n",
        "#     for i in range(2, int(num**0.5) + 1):\n",
        "#         if num % i == 0:\n",
        "#             return False\n",
        "#     return True\n"
      ],
      "metadata": {
        "id": "QqMhHfNykPQZ"
      },
      "execution_count": null,
      "outputs": []
    },
    {
      "cell_type": "markdown",
      "source": [
        "## **Debugging Assistance**\n",
        "\n",
        "**Error Resolution:**\n",
        "\n",
        "Setup: Insert a bug into the code, such as a typo or syntax error.\n",
        "\n",
        "\n",
        "Prompt: “Can you help fix the syntax error in this function?”"
      ],
      "metadata": {
        "id": "JN4L3Mn8zFx7"
      }
    },
    {
      "cell_type": "code",
      "source": [
        "#Example Bugged Code:\n",
        "\n",
        "def add_two_numbers(a, b):\n",
        "    return a + b"
      ],
      "metadata": {
        "id": "oEEwiGmAzvrc"
      },
      "execution_count": null,
      "outputs": []
    },
    {
      "cell_type": "code",
      "source": [
        "# prompt: Can you help fix the syntax error in this function?”def add_two_numbers(a, b)\n",
        "#     return a + b\n"
      ],
      "metadata": {
        "id": "3QrNyh1O0HSu"
      },
      "execution_count": null,
      "outputs": []
    },
    {
      "cell_type": "markdown",
      "source": [
        "**Optimization Suggestions:**\n",
        "\n",
        "Scenario: Imagine you have an inefficient loop.\n",
        "\n",
        "Prompt: “Can you suggest a way to optimize this loop for efficiency?”"
      ],
      "metadata": {
        "id": "nsudzy4M0Szu"
      }
    },
    {
      "cell_type": "code",
      "source": [
        "#Inefficient Code:\n",
        "\n",
        "result = []\n",
        "for i in range(1000):\n",
        "    result.append(i**2)"
      ],
      "metadata": {
        "id": "S0gG60J40MTA"
      },
      "execution_count": null,
      "outputs": []
    },
    {
      "cell_type": "code",
      "source": [
        "# prompt: Can you suggest a way to optimize this loop for efficiency?result = []\n",
        "# # for i in range(1000):\n",
        "# #     result.append(i**2)\n",
        "\n",
        "result = [i**2 for i in range(1000)]"
      ],
      "metadata": {
        "id": "9oByHynJLYNE"
      },
      "execution_count": null,
      "outputs": []
    },
    {
      "cell_type": "code",
      "source": [
        "# prompt: “Can you suggest a way to optimize this loop for efficiency?result = []\n",
        "# for i in range(1000):\n",
        "#     result.append(i**2)"
      ],
      "metadata": {
        "id": "es9xWBYi0izo"
      },
      "execution_count": null,
      "outputs": []
    },
    {
      "cell_type": "markdown",
      "source": [
        "## **Demonstrate Gemini’s Code Completion and Refactoring Abilities**\n",
        "**Code Completion:**\n",
        "\n",
        "Prompt: “Write the first part of a function, then ask Gemini to complete it.”"
      ],
      "metadata": {
        "id": "4l1eEL7I00v1"
      }
    },
    {
      "cell_type": "code",
      "source": [
        "def calculate_square(numbers):\n",
        "    result = []\n",
        "    for number in numbers:\n",
        "        # Complete the function\n",
        "              result.append(number**2)\n",
        "    return result"
      ],
      "metadata": {
        "id": "DrXNJP4005s4"
      },
      "execution_count": null,
      "outputs": []
    },
    {
      "cell_type": "code",
      "source": [
        "# prompt: def calculate_square(numbers):\n",
        "#     result = []\n",
        "#     for number in numbers:\n",
        "#         # Complete the function\n",
        "\n",
        "        result.append(number**2)\n",
        "    return result"
      ],
      "metadata": {
        "id": "coF1EI7jLkON"
      },
      "execution_count": null,
      "outputs": []
    },
    {
      "cell_type": "code",
      "source": [
        "# prompt: Write the first part of a function, then ask Gemini to complete it， def calculate_square(numbers):\n",
        "#     result = []\n",
        "#     for number in numbers:\n",
        "#         # Complete the function"
      ],
      "metadata": {
        "id": "r1uEearo1OiZ"
      },
      "execution_count": null,
      "outputs": []
    },
    {
      "cell_type": "markdown",
      "source": [
        "**Refactoring Suggestions:**\n",
        "\n",
        "Prompt: “Refactor the following code to make it more readable.”\n",
        "\n",
        "\n",
        "Verbose Code:\n"
      ],
      "metadata": {
        "id": "seJ483QN1We5"
      }
    },
    {
      "cell_type": "code",
      "source": [
        "def calculate_square(numbers):\n",
        "    result = []\n",
        "    for number in numbers:\n",
        "        result.append(number**2)\n",
        "    return result"
      ],
      "metadata": {
        "id": "xj2OThcV1THV"
      },
      "execution_count": null,
      "outputs": []
    },
    {
      "cell_type": "code",
      "source": [
        "# prompt: “Refactor the following code to make it more readable.” def calculate_square(numbers):\n",
        "# #     result = []\n",
        "# #     for number in numbers:\n",
        "# #         result.append(number**2)\n",
        "# #     return result\n",
        "\n",
        "def calculate_square(numbers):\n",
        "    \"\"\"Calculates the square of each number in a list.\n",
        "\n",
        "    Args:\n",
        "        numbers: A list of numbers.\n",
        "\n",
        "    Returns:\n",
        "        A new list containing the squares of the input numbers.\n",
        "    \"\"\"\n",
        "    return [number**2 for number in numbers]"
      ],
      "metadata": {
        "id": "73atJbaDLu6n"
      },
      "execution_count": null,
      "outputs": []
    },
    {
      "cell_type": "code",
      "source": [
        "# prompt: “Refactor the following code to make it more readable.” def calculate_square(numbers):\n",
        "#     result = []\n",
        "#     for number in numbers:\n",
        "#         result.append(number**2)\n",
        "#     return result"
      ],
      "metadata": {
        "id": "7tcOx4iH1gBR"
      },
      "execution_count": null,
      "outputs": []
    },
    {
      "cell_type": "markdown",
      "source": [
        "## **Advanced Help and Learning Assistance**\n",
        "**Learning New Concepts:**\n",
        "Prompt: “Can you explain recursion and give a simple example?”\n",
        "\n",
        "\n",
        "\n",
        "**Best Practices:**\n",
        "Prompt: “What are some best practices for handling exceptions in Python?”\n",
        "\n"
      ],
      "metadata": {
        "id": "EGva1hOP1u3S"
      }
    },
    {
      "cell_type": "markdown",
      "source": [
        "## **Examples of Common Error Explanations by Gemini**\n",
        "\n",
        "**1. Identify the Error Type**\n",
        "Gemini first recognizes the type of error, such as SyntaxError, TypeError, ValueError, or any other specific error.\n",
        "\n",
        "\n",
        " - *Example*: If you input code with a SyntaxError, Gemini would point out that it's a syntax issue, often highlighting the exact line.\n",
        "\n",
        "\n",
        "**2. Explain the Cause of the Error**\n",
        "Gemini provides an explanation of what caused the error, often including a brief description of the error type.\n",
        "\n",
        "\n",
        "- *Example*: In a TypeError, if you're trying to add an integer and a string, Gemini might say, “This TypeError occurs because you are trying to add an integer and a string, which are incompatible types in Python.”\n",
        "\n",
        "\n",
        "**3. Suggest a Solution**\n",
        "Gemini offers solutions or recommendations on how to fix the error, usually providing a corrected version of the code.\n",
        "\n"
      ],
      "metadata": {
        "id": "0kfF-_fv3MJz"
      }
    },
    {
      "cell_type": "code",
      "source": [
        "# Original code with error\n",
        "number = 5\n",
        "text = \"10\"\n",
        "result = number + text"
      ],
      "metadata": {
        "colab": {
          "base_uri": "https://localhost:8080/",
          "height": 176
        },
        "id": "wIOw9hPR3suY",
        "outputId": "53ed2e31-c4df-43e8-fe14-73ffc8eae595"
      },
      "execution_count": null,
      "outputs": [
        {
          "output_type": "error",
          "ename": "TypeError",
          "evalue": "unsupported operand type(s) for +: 'int' and 'str'",
          "traceback": [
            "\u001b[0;31m---------------------------------------------------------------------------\u001b[0m",
            "\u001b[0;31mTypeError\u001b[0m                                 Traceback (most recent call last)",
            "\u001b[0;32m<ipython-input-9-7b37fe76ed50>\u001b[0m in \u001b[0;36m<cell line: 4>\u001b[0;34m()\u001b[0m\n\u001b[1;32m      2\u001b[0m \u001b[0mnumber\u001b[0m \u001b[0;34m=\u001b[0m \u001b[0;36m5\u001b[0m\u001b[0;34m\u001b[0m\u001b[0;34m\u001b[0m\u001b[0m\n\u001b[1;32m      3\u001b[0m \u001b[0mtext\u001b[0m \u001b[0;34m=\u001b[0m \u001b[0;34m\"10\"\u001b[0m\u001b[0;34m\u001b[0m\u001b[0;34m\u001b[0m\u001b[0m\n\u001b[0;32m----> 4\u001b[0;31m \u001b[0mresult\u001b[0m \u001b[0;34m=\u001b[0m \u001b[0mnumber\u001b[0m \u001b[0;34m+\u001b[0m \u001b[0mtext\u001b[0m\u001b[0;34m\u001b[0m\u001b[0;34m\u001b[0m\u001b[0m\n\u001b[0m",
            "\u001b[0;31mTypeError\u001b[0m: unsupported operand type(s) for +: 'int' and 'str'"
          ]
        }
      ]
    },
    {
      "cell_type": "code",
      "source": [
        "def greet(name):\n",
        "    print(\"Hello\", name)"
      ],
      "metadata": {
        "id": "V_o-EWF_35sr"
      },
      "execution_count": null,
      "outputs": []
    },
    {
      "cell_type": "code",
      "source": [
        "print(message)\n"
      ],
      "metadata": {
        "colab": {
          "base_uri": "https://localhost:8080/",
          "height": 141
        },
        "id": "UzAnb2ea4CRt",
        "outputId": "3845bacd-4725-4eea-cac0-0e6bbeab7023"
      },
      "execution_count": null,
      "outputs": [
        {
          "output_type": "error",
          "ename": "NameError",
          "evalue": "name 'message' is not defined",
          "traceback": [
            "\u001b[0;31m---------------------------------------------------------------------------\u001b[0m",
            "\u001b[0;31mNameError\u001b[0m                                 Traceback (most recent call last)",
            "\u001b[0;32m<ipython-input-12-83cfdf559502>\u001b[0m in \u001b[0;36m<cell line: 1>\u001b[0;34m()\u001b[0m\n\u001b[0;32m----> 1\u001b[0;31m \u001b[0mprint\u001b[0m\u001b[0;34m(\u001b[0m\u001b[0mmessage\u001b[0m\u001b[0;34m)\u001b[0m\u001b[0;34m\u001b[0m\u001b[0;34m\u001b[0m\u001b[0m\n\u001b[0m",
            "\u001b[0;31mNameError\u001b[0m: name 'message' is not defined"
          ]
        }
      ]
    },
    {
      "cell_type": "code",
      "source": [
        "my_list = [1, 2, 3]\n",
        "print(my_list[5])\n"
      ],
      "metadata": {
        "id": "QBcUfYFc4O1-",
        "outputId": "a16a0552-86ea-4542-f906-febd0de30476",
        "colab": {
          "base_uri": "https://localhost:8080/",
          "height": 158
        }
      },
      "execution_count": null,
      "outputs": [
        {
          "output_type": "error",
          "ename": "IndexError",
          "evalue": "list index out of range",
          "traceback": [
            "\u001b[0;31m---------------------------------------------------------------------------\u001b[0m",
            "\u001b[0;31mIndexError\u001b[0m                                Traceback (most recent call last)",
            "\u001b[0;32m<ipython-input-13-d183bc319386>\u001b[0m in \u001b[0;36m<cell line: 2>\u001b[0;34m()\u001b[0m\n\u001b[1;32m      1\u001b[0m \u001b[0mmy_list\u001b[0m \u001b[0;34m=\u001b[0m \u001b[0;34m[\u001b[0m\u001b[0;36m1\u001b[0m\u001b[0;34m,\u001b[0m \u001b[0;36m2\u001b[0m\u001b[0;34m,\u001b[0m \u001b[0;36m3\u001b[0m\u001b[0;34m]\u001b[0m\u001b[0;34m\u001b[0m\u001b[0;34m\u001b[0m\u001b[0m\n\u001b[0;32m----> 2\u001b[0;31m \u001b[0mprint\u001b[0m\u001b[0;34m(\u001b[0m\u001b[0mmy_list\u001b[0m\u001b[0;34m[\u001b[0m\u001b[0;36m5\u001b[0m\u001b[0;34m]\u001b[0m\u001b[0;34m)\u001b[0m\u001b[0;34m\u001b[0m\u001b[0;34m\u001b[0m\u001b[0m\n\u001b[0m",
            "\u001b[0;31mIndexError\u001b[0m: list index out of range"
          ]
        }
      ]
    }
  ]
}